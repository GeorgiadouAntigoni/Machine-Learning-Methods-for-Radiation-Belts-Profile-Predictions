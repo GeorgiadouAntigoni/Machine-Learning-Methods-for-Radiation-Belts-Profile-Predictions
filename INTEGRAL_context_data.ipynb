{
 "cells": [
  {
   "cell_type": "code",
   "execution_count": 1,
   "metadata": {
    "ExecuteTime": {
     "end_time": "2017-11-27T14:40:36.286755Z",
     "start_time": "2017-11-27T14:40:35.269993Z"
    }
   },
   "outputs": [
    {
     "name": "stderr",
     "output_type": "stream",
     "text": [
      "/opt/jupyter/anaconda3/envs/deeplearning/lib/python3.5/site-packages/statsmodels/compat/pandas.py:56: FutureWarning: The pandas.core.datetools module is deprecated and will be removed in a future version. Please use the pandas.tseries module instead.\n",
      "  from pandas.core import datetools\n"
     ]
    }
   ],
   "source": [
    "# PANDAS     http://pandas.pydata.org\n",
    "# easy-to-use data structures and data analysis tools\n",
    "import pandas as pd\n",
    "import numpy as np\n",
    "import matplotlib.pyplot as plt\n",
    "# for plotting style only\n",
    "import seaborn as sns\n",
    "# Random Forest Regressor in Scikit-Learn.org\n",
    "from sklearn.ensemble import RandomForestRegressor\n",
    "import os\n",
    "# Here we export the predefined connectors using the \"*test\" credentials\n",
    "from dakit.databases.pymust import int_connector\n",
    "\n",
    "import dakit.features.orbitdata as orb\n",
    "\n",
    "%matplotlib inline"
   ]
  },
  {
   "cell_type": "code",
   "execution_count": 2,
   "metadata": {
    "ExecuteTime": {
     "end_time": "2017-11-27T14:40:36.294482Z",
     "start_time": "2017-11-27T14:40:36.288124Z"
    },
    "collapsed": true
   },
   "outputs": [],
   "source": [
    "# Integral parameters\n",
    "# AU5203 & AU5204 : FSS Alpha and Beta Angles\n",
    "\n",
    "#Target Parameters \n",
    "\n",
    "#IBIS\n",
    "#G6062\tV1S-BOT-COUNT\n",
    "#G6063\tV1S-LAT-COUNT\n",
    "#G6061   V1S-CAL-COUNT\n",
    "#G2013\tG2027\tG2041\tG2055\tG2069\tG2083\tG2097\tG2111\tI0S-EVTCNT-MCE0 to I0S-EVTCNT-MCE7\n",
    "#G5004\tP0S-M1VTC\t\n",
    "#G5002\tG5003\tP0S-M1RTC1\tP0S-M1RTC2\n",
    "#G5007\tG5008\tP0S-M2RTC1\tP0S-M2RTC2\t\n",
    "#G5012\tG5013\tP0S-M3RTC1\tP0S-M3RTC2\n",
    "#G5017\tG5018\tP0S-M4RTC1\tP0S-M4RTC2\n",
    "#G5022\tG5023\tP0S-M5RTC1\tP0S-M5RTC2\n",
    "#G5027\tG5028\tP0S-M6RTC1\tP0S-M6RTC2\t\n",
    "#G5032\tG5033\tP0S-M7RTC1\tP0S-M7RTC2\t\n",
    "#G5037\tG5038\tP0S-M8RTC1\tP0S-M8RTC2\n",
    "\n",
    "#JEM-X\n",
    "#K5119\tSOFTWARE TRIGGER\n",
    "#K5449\tHARDWARE TRIGGER\n",
    "#L5119\tSOFTWARE TRIGGER\n",
    "#L5449\tHARDWARE TRIGGER\n",
    "\n",
    "#SPI\n",
    "#E3500\tP_DF_CNVT-BW_L,1\n",
    "#E3544\tP_DF_CNVT-AB_L,1\n",
    "#E3340\tto\tE3358\tP_DF_CAFTS_L0,1\tto\tP_DF_CAFTS_L18,1\n",
    "#E3320\tto\tE3338\tP_DF_CAFTT_L0,1\tto\tP_DF_CAFTT_L18,1\n",
    "#E3360\tto\tE3378\tP_DF_CAFNV_L0,1\tto\tP_DF_CAFNV_L18,1\n",
    "\n",
    "#IREM\n",
    "#U9919\tINT PROT COUNT\n",
    "#U9920\tINT DOSE COUNT\n",
    "#U9921\tINT ELECTR COUNT\n",
    "\n",
    "#http://oratos/intatt/ops_products/INTEGRAL/Orbit/"
   ]
  },
  {
   "cell_type": "markdown",
   "metadata": {},
   "source": [
    "# Context Data for Integral "
   ]
  },
  {
   "cell_type": "markdown",
   "metadata": {},
   "source": [
    "## Data preparation"
   ]
  },
  {
   "cell_type": "code",
   "execution_count": 3,
   "metadata": {
    "ExecuteTime": {
     "end_time": "2017-11-27T14:48:38.298155Z",
     "start_time": "2017-11-27T14:40:36.295745Z"
    },
    "collapsed": true
   },
   "outputs": [],
   "source": [
    "# Create the parameters- DATA DOWNLOADING\n",
    "AU5201 =int_connector.getData(\"AU5201\", \"2015-02-04 15:30:00\", \"2017-11-20 23:59:57\", use_sec=True) \n",
    "AU5202 =int_connector.getData(\"AU5202\", \"2015-02-04 15:30:00\", \"2017-11-20 23:59:57\", use_sec=True) \n",
    "AU5203 =int_connector.getData(\"AU5203\", \"2015-02-04 15:30:00\", \"2017-11-20 23:59:57\", use_sec=True) \n",
    "AU5204 =int_connector.getData(\"AU5204\", \"2015-02-04 15:30:00\", \"2017-11-20 23:59:57\", use_sec=True) "
   ]
  },
  {
   "cell_type": "code",
   "execution_count": null,
   "metadata": {
    "ExecuteTime": {
     "start_time": "2017-11-27T14:40:35.607Z"
    },
    "collapsed": true
   },
   "outputs": [],
   "source": [
    "# Create the parameters- DATA DOWNLOADING\n",
    "A5201 =int_connector.getData(\"A5201\", \"2015-02-04 15:30:00\", \"2017-11-20 23:59:57\", use_sec=True) \n",
    "A5202 =int_connector.getData(\"A5202\", \"2015-02-04 15:30:00\", \"2017-11-20 23:59:57\", use_sec=True) \n",
    "A5203 =int_connector.getData(\"A5203\", \"2015-02-04 15:30:00\", \"2017-11-20 23:59:57\", use_sec=True) \n",
    "A5204 =int_connector.getData(\"A5204\", \"2015-02-04 15:30:00\", \"2017-11-20 23:59:57\", use_sec=True) "
   ]
  },
  {
   "cell_type": "code",
   "execution_count": null,
   "metadata": {
    "ExecuteTime": {
     "start_time": "2017-11-27T14:40:35.610Z"
    },
    "collapsed": true
   },
   "outputs": [],
   "source": [
    "# Use Hardware and Software Triggers as Target Data\n",
    "K5449 = int_connector.getData(\"K5449\", \"2015-02-04 15:30:00\", \"2017-11-20 23:59:57\", use_sec=True)\n",
    "L5449 = int_connector.getData(\"L5449\", \"2015-02-04 15:30:00\", \"2017-11-20 23:59:57\", use_sec=True)\n",
    "K5119 = int_connector.getData(\"K5119\", \"2015-02-04 15:30:00\", \"2017-11-20 23:59:57\", use_sec=True)\n",
    "L5119 = int_connector.getData(\"L5119\", \"2015-02-04 15:30:00\", \"2017-11-20 23:59:57\", use_sec=True)\n",
    "\n",
    "# Do we really want proton and dose counts? Kept only one as they are identical: didn't seem relevant to radiation of interest\n",
    "#U9919 = int_connector.getData(\"U9919\", \"2015-09-15 00:00:00\", \"2017-09-17 23:59:57\", use_sec=True)\n",
    "#U9920 = int_connector.getData(\"U9920\", \"2015-09-15 00:00:00\", \"2017-09-17 23:59:57\", use_sec=True)"
   ]
  },
  {
   "cell_type": "code",
   "execution_count": null,
   "metadata": {
    "ExecuteTime": {
     "start_time": "2017-11-27T14:40:35.613Z"
    },
    "collapsed": true
   },
   "outputs": [],
   "source": [
    "# for removing data with really small values, e.g. when the instrument goes into safe mode \n",
    "K5449_hasData = K5449.data[(K5449.data < 25000)].index\n",
    "L5449_hasData = L5449.data[(L5449.data < 25000)].index\n",
    "K5119_hasData = K5119.data[(K5119.data < 25000)].index\n",
    "L5119_hasData = L5119.data[(L5119.data < 25000)].index\n",
    "#U9919_hasData = U9919.data[(U9919.data < 25000)].index\n",
    "#U9920_hasData = U9920.data[(U9920.data < 25000)].index"
   ]
  },
  {
   "cell_type": "code",
   "execution_count": null,
   "metadata": {
    "ExecuteTime": {
     "start_time": "2017-11-27T14:40:35.618Z"
    },
    "collapsed": true
   },
   "outputs": [],
   "source": [
    "# Insert more target data from IBIS, SPI, etc.\n",
    "#IBIS\n",
    "G6061 = int_connector.getData(\"G6061\", \"2015-02-04 15:30:00\", \"2017-11-20 23:59:57\", use_sec=True)\n",
    "G6062 = int_connector.getData(\"G6062\", \"2015-02-04 15:30:00\", \"2017-11-20 23:59:57\", use_sec=True)\n",
    "G6063 = int_connector.getData(\"G6063\", \"2015-02-04 15:30:00\", \"2017-11-20 23:59:57\", use_sec=True)\n",
    "\n",
    "G2013 = int_connector.getData(\"G2013\", \"2015-02-04 15:30:00\", \"2017-11-20 23:59:57\", use_sec=True)\n",
    "G5002 = int_connector.getData(\"G5002\", \"2015-02-04 15:30:00\", \"2017-11-20 23:59:57\", use_sec=True)\n",
    "G5004 = int_connector.getData(\"G5004\", \"2015-02-04 15:30:00\", \"2017-11-20 23:59:57\", use_sec=True)\n",
    "G5007 = int_connector.getData(\"G5007\", \"2015-02-04 15:30:00\", \"2017-11-20 23:59:57\", use_sec=True)\n",
    "G5012 = int_connector.getData(\"G5012\", \"2015-02-04 15:30:00\", \"2017-11-20 23:59:57\", use_sec=True)\n",
    "G5017 = int_connector.getData(\"G5017\", \"2015-02-04 15:30:00\", \"2017-11-20 23:59:57\", use_sec=True)\n",
    "G5022 = int_connector.getData(\"G5022\", \"2015-02-04 15:30:00\", \"2017-11-20 23:59:57\", use_sec=True)\n",
    "G5027 = int_connector.getData(\"G5027\", \"2015-02-04 15:30:00\", \"2017-11-20 23:59:57\", use_sec=True)\n",
    "G5032 = int_connector.getData(\"G5032\", \"2015-02-04 15:30:00\", \"2017-11-20 23:59:57\", use_sec=True)\n",
    "G5037 = int_connector.getData(\"G5037\", \"2015-02-04 15:30:00\", \"2017-11-20 23:59:57\", use_sec=True)"
   ]
  },
  {
   "cell_type": "code",
   "execution_count": null,
   "metadata": {
    "ExecuteTime": {
     "start_time": "2017-11-27T14:40:35.621Z"
    },
    "collapsed": true
   },
   "outputs": [],
   "source": [
    "# Insert more target data from IBIS, SPI, etc.\n",
    "# SPI --- big chunks of data entries missing for all \"E\" params, just interpolated \n",
    "\n",
    "E3500 = int_connector.getData(\"E3500\", \"2015-02-04 15:30:00\", \"2017-11-20 23:59:57\", use_sec=True)\n",
    "E3544 = int_connector.getData(\"E3544\", \"2015-02-04 15:30:00\", \"2017-11-20 23:59:57\", use_sec=True)\n",
    "E3340 = int_connector.getData(\"E3340\", \"2015-02-04 15:30:00\", \"2017-11-20 23:59:57\", use_sec=True)\n",
    "E3320 = int_connector.getData(\"E3320\", \"2015-02-04 15:30:00\", \"2017-11-20 23:59:57\", use_sec=True)\n",
    "E3360 = int_connector.getData(\"E3360\", \"2015-02-04 15:30:00\", \"2017-11-20 23:59:57\", use_sec=True)"
   ]
  },
  {
   "cell_type": "code",
   "execution_count": null,
   "metadata": {
    "ExecuteTime": {
     "start_time": "2017-11-27T14:40:35.624Z"
    },
    "collapsed": true
   },
   "outputs": [],
   "source": [
    "# write to .csv file\n",
    "AU5201.data.to_csv('data/INTEGRAL_context_file/AU5201.csv', header=True )\n",
    "AU5202.data.to_csv('data/INTEGRAL_context_file/AU5202.csv', header=True )\n",
    "AU5203.data.to_csv('data/INTEGRAL_context_file/AU5203.csv', header=True )\n",
    "AU5204.data.to_csv('data/INTEGRAL_context_file/AU5204.csv', header=True )"
   ]
  },
  {
   "cell_type": "code",
   "execution_count": null,
   "metadata": {
    "ExecuteTime": {
     "start_time": "2017-11-27T14:40:35.628Z"
    },
    "collapsed": true
   },
   "outputs": [],
   "source": [
    "A5201.data.to_csv('data/INTEGRAL_context_file/A5201.csv', header=True )\n",
    "A5202.data.to_csv('data/INTEGRAL_context_file/A5202.csv', header=True )\n",
    "A5203.data.to_csv('data/INTEGRAL_context_file/A5203.csv', header=True )\n",
    "A5204.data.to_csv('data/INTEGRAL_context_file/A5204.csv', header=True )"
   ]
  },
  {
   "cell_type": "code",
   "execution_count": null,
   "metadata": {
    "ExecuteTime": {
     "start_time": "2017-11-27T14:40:35.632Z"
    },
    "collapsed": true
   },
   "outputs": [],
   "source": [
    "K5449.data[K5449_hasData].to_csv('data/INTEGRAL_context_file/K5449_hasData.csv', header=True )\n",
    "L5449.data[L5449_hasData].to_csv('data/INTEGRAL_context_file/L5449_hasData.csv', header=True )\n",
    "K5119.data[K5119_hasData].to_csv('data/INTEGRAL_context_file/K5119_hasData.csv', header=True )\n",
    "L5119.data[L5119_hasData].to_csv('data/INTEGRAL_context_file/L5119_hasData.csv', header=True )\n",
    "#U9919.data[U9919_hasData].to_csv('data/INTEGRAL_context_file/U9919_hasData.csv', header=True )\n",
    "#U9920.data[U9920_hasData].to_csv('data/INTEGRAL_context_file/U9920_hasData.csv', header=True )"
   ]
  },
  {
   "cell_type": "code",
   "execution_count": null,
   "metadata": {
    "ExecuteTime": {
     "start_time": "2017-11-27T14:40:35.637Z"
    },
    "collapsed": true
   },
   "outputs": [],
   "source": [
    "G6061.data.to_csv('data/INTEGRAL_context_file/G6061.csv', header=True )\n",
    "G6062.data.to_csv('data/INTEGRAL_context_file/G6062.csv', header=True )\n",
    "G6063.data.to_csv('data/INTEGRAL_context_file/G6063.csv', header=True )\n",
    "\n",
    "G2013.data.to_csv('data/INTEGRAL_context_file/G2013.csv', header=True )\n",
    "G5002.data.to_csv('data/INTEGRAL_context_file/G5002.csv', header=True )\n",
    "G5004.data.to_csv('data/INTEGRAL_context_file/G5004.csv', header=True )\n",
    "G5007.data.to_csv('data/INTEGRAL_context_file/G5007.csv', header=True )\n",
    "G5012.data.to_csv('data/INTEGRAL_context_file/G5012.csv', header=True )\n",
    "G5017.data.to_csv('data/INTEGRAL_context_file/G5017.csv', header=True )\n",
    "G5022.data.to_csv('data/INTEGRAL_context_file/G5022.csv', header=True )\n",
    "G5027.data.to_csv('data/INTEGRAL_context_file/G5027.csv', header=True )\n",
    "G5032.data.to_csv('data/INTEGRAL_context_file/G5032.csv', header=True )\n",
    "G5037.data.to_csv('data/INTEGRAL_context_file/G5037.csv', header=True )"
   ]
  },
  {
   "cell_type": "code",
   "execution_count": null,
   "metadata": {
    "ExecuteTime": {
     "start_time": "2017-11-27T14:40:35.641Z"
    },
    "collapsed": true
   },
   "outputs": [],
   "source": [
    "# SPI- September not yet loaded in webMust\n",
    "\n",
    "E3500.data.to_csv('data/INTEGRAL_context_file/E3500.csv', header=True )\n",
    "E3544.data.to_csv('data/INTEGRAL_context_file/E3544.csv', header=True )\n",
    "E3340.data.to_csv('data/INTEGRAL_context_file/E3340.csv', header=True )\n",
    "E3320.data.to_csv('data/INTEGRAL_context_file/E3320.csv', header=True )\n",
    "E3360.data.to_csv('data/INTEGRAL_context_file/E3360.csv', header=True )"
   ]
  },
  {
   "cell_type": "markdown",
   "metadata": {},
   "source": [
    "## Attitude Data"
   ]
  },
  {
   "cell_type": "code",
   "execution_count": null,
   "metadata": {
    "ExecuteTime": {
     "start_time": "2017-11-27T14:40:35.695Z"
    },
    "collapsed": true
   },
   "outputs": [],
   "source": [
    "#read from .csv file\n",
    "#---------- RM were previously extracted to csv files from MUST database\n",
    "DIR = '/home/jupyter/workspaces/missions/xmmintegral/data/INTEGRAL_context_file/' \n",
    "\n",
    "df_AU5201 = pd.read_csv(DIR + \"AU5201.csv\", index_col=[0])\n",
    "df_AU5202 = pd.read_csv(DIR + \"AU5202.csv\", index_col=[0])\n",
    "df_AU5203 = pd.read_csv(DIR + \"AU5203.csv\", index_col=[0])\n",
    "df_AU5204 = pd.read_csv(DIR + \"AU5204.csv\", index_col=[0])\n",
    "\n",
    "df_A5201 = pd.read_csv(DIR + \"A5201.csv\", index_col=[0])\n",
    "df_A5202 = pd.read_csv(DIR + \"A5202.csv\", index_col=[0])\n",
    "df_A5203 = pd.read_csv(DIR + \"A5203.csv\", index_col=[0])\n",
    "df_A5204 = pd.read_csv(DIR + \"A5204.csv\", index_col=[0])"
   ]
  },
  {
   "cell_type": "code",
   "execution_count": null,
   "metadata": {
    "ExecuteTime": {
     "start_time": "2017-11-27T14:40:35.699Z"
    },
    "collapsed": true
   },
   "outputs": [],
   "source": [
    "df_K5449_hasData = pd.read_csv(DIR + \"K5449_hasData.csv\", index_col=[0])\n",
    "df_L5449_hasData = pd.read_csv(DIR + \"L5449_hasData.csv\", index_col=[0])\n",
    "df_K5119_hasData = pd.read_csv(DIR + \"K5119_hasData.csv\", index_col=[0])\n",
    "df_L5119_hasData = pd.read_csv(DIR + \"L5119_hasData.csv\", index_col=[0])\n",
    "#df_U9919_hasData = pd.read_csv(DIR + \"U9919_hasData.csv\", index_col=[0])\n",
    "#df_U9920_hasData = pd.read_csv(DIR + \"U9920_hasData.csv\", index_col=[0])"
   ]
  },
  {
   "cell_type": "code",
   "execution_count": null,
   "metadata": {
    "ExecuteTime": {
     "start_time": "2017-11-27T14:40:35.703Z"
    },
    "collapsed": true
   },
   "outputs": [],
   "source": [
    "df_G6061 = pd.read_csv(DIR + \"G6061.csv\", index_col=[0])\n",
    "df_G6062 = pd.read_csv(DIR + \"G6062.csv\", index_col=[0])\n",
    "df_G6063 = pd.read_csv(DIR + \"G6063.csv\", index_col=[0])\n",
    "\n",
    "df_G2013 = pd.read_csv(DIR + \"G2013.csv\", index_col=[0])\n",
    "df_G5002 = pd.read_csv(DIR + \"G5002.csv\", index_col=[0])\n",
    "df_G5004 = pd.read_csv(DIR + \"G5004.csv\", index_col=[0])\n",
    "df_G5007 = pd.read_csv(DIR + \"G5007.csv\", index_col=[0])\n",
    "df_G5012 = pd.read_csv(DIR + \"G5012.csv\", index_col=[0])\n",
    "df_G5017 = pd.read_csv(DIR + \"G5017.csv\", index_col=[0])\n",
    "df_G5022 = pd.read_csv(DIR + \"G5022.csv\", index_col=[0])\n",
    "df_G5027 = pd.read_csv(DIR + \"G5027.csv\", index_col=[0])\n",
    "df_G5032 = pd.read_csv(DIR + \"G5032.csv\", index_col=[0])\n",
    "df_G5037 = pd.read_csv(DIR + \"G5037.csv\", index_col=[0])"
   ]
  },
  {
   "cell_type": "code",
   "execution_count": null,
   "metadata": {
    "ExecuteTime": {
     "start_time": "2017-11-27T14:40:35.707Z"
    },
    "collapsed": true
   },
   "outputs": [],
   "source": [
    "# SPI- September not yet loaded in webMust\n",
    "\n",
    "df_E3500 = pd.read_csv(DIR + \"E3500.csv\", index_col=[0])\n",
    "df_E3544 = pd.read_csv(DIR + \"E3544.csv\", index_col=[0])\n",
    "df_E3340 = pd.read_csv(DIR + \"E3340.csv\", index_col=[0])\n",
    "df_E3320 = pd.read_csv(DIR + \"E3320.csv\", index_col=[0])\n",
    "df_E3360 = pd.read_csv(DIR + \"E3360.csv\", index_col=[0])"
   ]
  },
  {
   "cell_type": "markdown",
   "metadata": {},
   "source": [
    "## Solar Event Data"
   ]
  },
  {
   "cell_type": "code",
   "execution_count": null,
   "metadata": {
    "ExecuteTime": {
     "start_time": "2017-11-27T14:40:35.754Z"
    },
    "collapsed": true
   },
   "outputs": [],
   "source": [
    "#read from file sunspots data: sunspot count daily\n",
    "#DIR = '/home/jupyter/workspaces/missions/xmmintegral/data/INTEGRAL_context_file/'\n",
    "\n",
    "#df_sunspots = pd.read_csv(DIR + \"sunspotsLong.csv\", index_col=[0])\n",
    "#df_sunspots_cnt = df_sunspots['cnt']\n",
    "\n",
    "#df_sunspots_cnt.plot(figsize=(18,10), color='violet', linewidth=2)"
   ]
  },
  {
   "cell_type": "markdown",
   "metadata": {},
   "source": [
    "## Orbit Elements Data"
   ]
  },
  {
   "cell_type": "code",
   "execution_count": null,
   "metadata": {
    "ExecuteTime": {
     "start_time": "2017-11-27T14:40:35.801Z"
    },
    "collapsed": true
   },
   "outputs": [],
   "source": [
    "# orbit data --- DATA LOADING\n",
    "DIR = '/home/jupyter/workspaces/missions/xmmintegral/data/INTEGRAL_context_file/'\n",
    "\n",
    "df_orbit = pd.read_csv(DIR + \"orbitdataFinal.csv\", index_col=[0])\n",
    "print(df_orbit.shape)\n",
    "print(df_orbit.head())"
   ]
  },
  {
   "cell_type": "code",
   "execution_count": null,
   "metadata": {
    "ExecuteTime": {
     "start_time": "2017-11-27T14:40:35.805Z"
    },
    "collapsed": true
   },
   "outputs": [],
   "source": [
    "# Get orbit elements\n",
    "SMA    = df_orbit[\"SMA\"].values\n",
    "ECCENT = df_orbit[\"ECCENT\"].values\n",
    "INCL   = (df_orbit[\"INCL\"].values)*np.pi/180\n",
    "NODE   = (df_orbit[\"NODE\"].values)*np.pi/180\n",
    "RGPER = (df_orbit[\"ARGPER\"].values)*np.pi/180\n",
    "LONG   = (df_orbit[\"LONG\"].values)*np.pi/180\n",
    "mu     = 398600"
   ]
  },
  {
   "cell_type": "code",
   "execution_count": null,
   "metadata": {
    "ExecuteTime": {
     "start_time": "2017-11-27T14:40:35.809Z"
    },
    "collapsed": true
   },
   "outputs": [],
   "source": [
    "print(np.size(SMA))"
   ]
  },
  {
   "cell_type": "code",
   "execution_count": null,
   "metadata": {
    "ExecuteTime": {
     "start_time": "2017-11-27T14:40:35.813Z"
    },
    "collapsed": true
   },
   "outputs": [],
   "source": [
    "# Convert period from HH:MM:SS to seconds\n",
    "PERIOD = []\n",
    "for element in df_orbit[\"PERIOD\"].values:\n",
    "    parts = element.split(':')\n",
    "    parts[2] = '0' if not parts[2] else parts[2] # SS might be empty\n",
    "    time = (float(parts[0])*3600 + float(parts[1])*60 + float(parts[2]))\n",
    "    PERIOD.append(time)\n",
    "print(parts)    \n",
    "print(PERIOD)"
   ]
  },
  {
   "cell_type": "code",
   "execution_count": null,
   "metadata": {
    "ExecuteTime": {
     "start_time": "2017-11-27T14:40:35.817Z"
    },
    "collapsed": true
   },
   "outputs": [],
   "source": [
    "len(PERIOD)"
   ]
  },
  {
   "cell_type": "code",
   "execution_count": null,
   "metadata": {
    "ExecuteTime": {
     "start_time": "2017-11-27T14:40:35.822Z"
    },
    "collapsed": true
   },
   "outputs": [],
   "source": [
    "## Solve two nonlinear equations to find true anomaly with time step = 30s\n",
    "from scipy.optimize import newton\n",
    "# Define functions\n",
    "def func_energy (dummy,eccent,time,sma,mu):\n",
    "    energy = dummy\n",
    "    return np.sqrt(sma**3/mu)*(energy - eccent*np.sin(energy)) - time\n",
    "\n",
    "def func_trueanom (dummy,energy,eccent):\n",
    "    theta = dummy\n",
    "    return 2*np.arctan(np.sqrt((1-eccent)/(1+eccent))*np.tan(theta/2)) - energy\n",
    "\n",
    "def trueanom (eccent,time,sma,mu,guess_EN,theta):\n",
    "    guess_energy = guess_EN\n",
    "    energy = newton(lambda k: func_energy(k,eccent,time,sma,mu),guess_energy)\n",
    "    guess_trueanom = theta\n",
    "    return newton(lambda k: func_trueanom(k,energy,eccent),guess_trueanom,tol=2*10**(-3)), guess_energy"
   ]
  },
  {
   "cell_type": "code",
   "execution_count": null,
   "metadata": {
    "ExecuteTime": {
     "start_time": "2017-11-27T14:40:35.826Z"
    },
    "collapsed": true
   },
   "outputs": [],
   "source": [
    "## Compute position and velocity vectors in the geocentric equatorial frame\n",
    "\n",
    "# Initialize vectors\n",
    "rx_tot = []\n",
    "ry_tot = []\n",
    "rz_tot = []\n",
    "vx_tot = []\n",
    "vy_tot = []\n",
    "vz_tot = []\n",
    "\n",
    "theta_tot = []\n",
    "\n",
    "for i in range(0,ECCENT.size):\n",
    "    \n",
    "    # Initialise variables\n",
    "    time = 0.0\n",
    "    thetaold = 0.0\n",
    "    guess_energy = 0.0\n",
    "    j = 0\n",
    "    \n",
    "    # Initialise vectors\n",
    "    rx_fh = []\n",
    "    ry_fh = []\n",
    "    rz_fh = []\n",
    "    vx_fh = []\n",
    "    vy_fh = []\n",
    "    vz_fh = []\n",
    "\n",
    "    rx_sh = []\n",
    "    ry_sh = []\n",
    "    rz_sh = []\n",
    "    vx_sh = []\n",
    "    vy_sh = []\n",
    "    vz_sh = []\n",
    "    \n",
    "    while time < PERIOD[i]:\n",
    "        \n",
    "        if time < PERIOD[i]/2:\n",
    "            \n",
    "            # Compute p\n",
    "            p = SMA[i]*(1-ECCENT[i]**2)\n",
    "\n",
    "            # Compute true anomaly\n",
    "            output = trueanom(ECCENT[i],time,SMA[i],mu,guess_energy,thetaold)\n",
    "            theta  = output[0]\n",
    "            guess_energy = output[1]\n",
    "            thetaold = theta\n",
    "            #print(theta)\n",
    "\n",
    "            # Compute r, where r = sqrt(rx^2 + ry^2 + rz^2)\n",
    "            r = p/(1+ECCENT[i]*np.cos(theta))\n",
    "\n",
    "            r_vec = np.array([[r*np.cos(theta)],[-r*np.sin(theta)],[0]]) # Need to change sign as XMM moves in ccw direction\n",
    "            v_vec = np.array([[np.sqrt(mu/p)*np.sin(theta)], [-np.sqrt(mu/p)*(ECCENT[i] + np.cos(theta))], [0]]) # Need to change sign as XMM moves in ccw direction\n",
    "\n",
    "            #print(r_vec)\n",
    "            #print(v_vec)\n",
    "\n",
    "            # Create rotations matrices\n",
    "            R_ARGPER = np.matrix([[np.cos(RGPER[i]), np.sin(RGPER[i]),0],\n",
    "                                  [-np.sin(RGPER[i]), np.cos(RGPER[i]),0],\n",
    "                                  [0,0,1]])\n",
    "\n",
    "            R_INCL   = np.matrix([[1,0,0],\n",
    "                                  [0,np.cos(INCL[i]), np.sin(INCL[i])],\n",
    "                                  [0,-np.sin(INCL[i]), np.cos(INCL[i])]])\n",
    "\n",
    "            R_NODE   = np.matrix([[np.cos(NODE[i]), np.sin(NODE[i]),0],\n",
    "                                  [-np.sin(NODE[i]), np.cos(NODE[i]),0],\n",
    "                                  [0,0,1]])\n",
    "\n",
    "            # From perifocal frame to geocentric equatorial\n",
    "            r_vec_ge = np.transpose(R_NODE)*np.transpose(R_INCL)*np.transpose(R_ARGPER)*r_vec\n",
    "            v_vec_ge = np.transpose(R_NODE)*np.transpose(R_INCL)*np.transpose(R_ARGPER)*v_vec\n",
    "\n",
    "            # Store data\n",
    "            rx_fh.append(r_vec_ge[(0,0)])\n",
    "            ry_fh.append(r_vec_ge[(1,0)])\n",
    "            rz_fh.append(r_vec_ge[(2,0)])\n",
    "            vx_fh.append(v_vec_ge[(0,0)])\n",
    "            vy_fh.append(v_vec_ge[(1,0)])\n",
    "            vz_fh.append(v_vec_ge[(2,0)])\n",
    "            theta_tot.append(theta)\n",
    "            \n",
    "        else:\n",
    "            \n",
    "            theta = 2*np.pi - theta_tot[j]\n",
    "            #print(theta)\n",
    "            \n",
    "            # Compute r, where r = sqrt(rx^2 + ry^2 + rz^2)\n",
    "            r = p/(1+ECCENT[i]*np.cos(theta))\n",
    "\n",
    "            r_vec = np.array([[r*np.cos(theta)],[-r*np.sin(theta)],[0]]) # Need to change sign as XMM moves in ccw direction\n",
    "            v_vec = np.array([[np.sqrt(mu/p)*np.sin(theta)], [-np.sqrt(mu/p)*(ECCENT[i] + np.cos(theta))], [0]]) # Need to change sign as XMM moves in ccw direction\n",
    "\n",
    "            #print(r_vec)\n",
    "            #print(v_vec)\n",
    "\n",
    "            # Create rotations matrices\n",
    "            R_ARGPER = np.matrix([[np.cos(RGPER[i]), np.sin(RGPER[i]),0],\n",
    "                                  [-np.sin(RGPER[i]), np.cos(RGPER[i]),0],\n",
    "                                  [0,0,1]])\n",
    "\n",
    "            R_INCL   = np.matrix([[1,0,0],\n",
    "                                  [0,np.cos(INCL[i]), np.sin(INCL[i])],\n",
    "                                  [0,-np.sin(INCL[i]), np.cos(INCL[i])]])\n",
    "\n",
    "            R_NODE   = np.matrix([[np.cos(NODE[i]), np.sin(NODE[i]),0],\n",
    "                                  [-np.sin(NODE[i]), np.cos(NODE[i]),0],\n",
    "                                  [0,0,1]])\n",
    "\n",
    "            # From perifocal frame to geocentric equatorial\n",
    "            r_vec_ge = np.transpose(R_NODE)*np.transpose(R_INCL)*np.transpose(R_ARGPER)*r_vec\n",
    "            v_vec_ge = np.transpose(R_NODE)*np.transpose(R_INCL)*np.transpose(R_ARGPER)*v_vec\n",
    "            \n",
    "            # Store data\n",
    "            rx_sh.append(r_vec_ge[(0,0)])\n",
    "            ry_sh.append(r_vec_ge[(1,0)])\n",
    "            rz_sh.append(r_vec_ge[(2,0)])\n",
    "            vx_sh.append(v_vec_ge[(0,0)])\n",
    "            vy_sh.append(v_vec_ge[(1,0)])\n",
    "            vz_sh.append(v_vec_ge[(2,0)])\n",
    "            \n",
    "            # Increment index for theta\n",
    "            j += 1\n",
    "        \n",
    "        # Increment time\n",
    "        time += 30\n",
    "    \n",
    "    # Store data in unique list\n",
    "#    rx_tot.append(rx_fh)\n",
    "#    print(len(rx_tot))\n",
    "#    rx_tot.append(rx_sh[::-1])\n",
    "#    print(len(rx_tot))\n",
    "#    dummy.append(rx_fh + rx_sh[::-1])\n",
    "#    print(len(dummy))\n",
    "#    \n",
    "#    ry_tot.append(ry_fh)\n",
    "#    ry_tot.append(ry_sh[::-1])\n",
    "#    \n",
    "#    rz_tot.append(rz_fh)\n",
    "#    rz_tot.append(rz_sh[::-1])\n",
    "#    \n",
    "#    vx_tot.append(vx_fh)\n",
    "#    vx_tot.append(vx_sh[::-1])\n",
    "#    \n",
    "#    vy_tot.append(vy_fh)\n",
    "#    vy_tot.append(vy_sh[::-1])\n",
    "#    \n",
    "#    vz_tot.append(vz_fh)\n",
    "#    vz_tot.append(vz_sh[::-1])\n",
    "    \n",
    "    rx_tot.append(rx_fh + rx_sh[::-1])\n",
    "    \n",
    "    ry_tot.append(ry_fh + ry_sh[::-1])\n",
    "    \n",
    "    rz_tot.append(rz_fh + rz_sh[::-1])\n",
    "    \n",
    "    vx_tot.append(vx_fh + vx_sh[::-1])\n",
    "    \n",
    "    vy_tot.append(vy_fh + vy_sh[::-1])\n",
    "    \n",
    "    vz_tot.append(vz_fh + vz_sh[::-1])"
   ]
  },
  {
   "cell_type": "code",
   "execution_count": null,
   "metadata": {
    "ExecuteTime": {
     "start_time": "2017-11-27T14:40:35.833Z"
    },
    "collapsed": true
   },
   "outputs": [],
   "source": [
    "print(df_orbit.shape)\n",
    "print(df_orbit.tail())"
   ]
  },
  {
   "cell_type": "markdown",
   "metadata": {},
   "source": [
    "## Eclipse data "
   ]
  },
  {
   "cell_type": "markdown",
   "metadata": {},
   "source": [
    "### UMBRA"
   ]
  },
  {
   "cell_type": "code",
   "execution_count": null,
   "metadata": {
    "ExecuteTime": {
     "start_time": "2017-11-27T14:40:35.992Z"
    },
    "collapsed": true
   },
   "outputs": [],
   "source": [
    "#eclipse data --- DATA LOADING\n",
    "#DIR = '/home/jupyter/workspaces/missions/xmmintegral/data/INTEGRAL_context_file/'\n",
    "\n",
    "#df_eclipse_umbra = pd.read_csv(DIR + \"umbraF.csv\")\n",
    "#print(df_eclipse_umbra.shape)\n",
    "#print(df_eclipse_umbra.head())"
   ]
  },
  {
   "cell_type": "code",
   "execution_count": null,
   "metadata": {
    "ExecuteTime": {
     "start_time": "2017-11-27T14:40:36.000Z"
    },
    "collapsed": true
   },
   "outputs": [],
   "source": [
    "# Start times\n",
    "#df_eclip_umbra = pd.read_csv(DIR + \"umbraF.csv\", index_col=[0])\n",
    "#start = pd.to_datetime(df_eclip_umbra.index)\n",
    "#start"
   ]
  },
  {
   "cell_type": "code",
   "execution_count": null,
   "metadata": {
    "ExecuteTime": {
     "start_time": "2017-11-27T14:40:36.006Z"
    },
    "collapsed": true
   },
   "outputs": [],
   "source": [
    "#print(df_eclip_umbra.tail())"
   ]
  },
  {
   "cell_type": "code",
   "execution_count": null,
   "metadata": {
    "ExecuteTime": {
     "start_time": "2017-11-27T14:40:36.013Z"
    },
    "collapsed": true
   },
   "outputs": [],
   "source": [
    "#print(start.values)"
   ]
  },
  {
   "cell_type": "code",
   "execution_count": null,
   "metadata": {
    "ExecuteTime": {
     "start_time": "2017-11-27T14:40:36.019Z"
    },
    "collapsed": true
   },
   "outputs": [],
   "source": [
    "# End times\n",
    "#df_eclip_umbra = pd.read_csv(DIR + \"umbraF.csv\", index_col=[1])\n",
    "#end = pd.to_datetime(df_eclip_umbra.index)\n",
    "#end"
   ]
  },
  {
   "cell_type": "code",
   "execution_count": null,
   "metadata": {
    "ExecuteTime": {
     "start_time": "2017-11-27T14:40:36.026Z"
    },
    "collapsed": true
   },
   "outputs": [],
   "source": [
    "#print(end.values)"
   ]
  },
  {
   "cell_type": "code",
   "execution_count": null,
   "metadata": {
    "ExecuteTime": {
     "start_time": "2017-11-27T14:40:36.033Z"
    },
    "collapsed": true
   },
   "outputs": [],
   "source": [
    "#BIGECLIPSE_UMBRA = []\n",
    "#for i in range(0,start.size):\n",
    "#    BIGECLIPSE_UMBRA.append(pd.date_range(start.values[i],end.values[i],freq='10min'))\n",
    "#BIGECLIPSE_UMBRA"
   ]
  },
  {
   "cell_type": "code",
   "execution_count": null,
   "metadata": {
    "ExecuteTime": {
     "start_time": "2017-11-27T14:40:36.043Z"
    },
    "collapsed": true
   },
   "outputs": [],
   "source": [
    "#BIGECLIPSE_UMBRA = pd.DataFrame()\n",
    "\n",
    "#for i in range(0,start.size):\n",
    "#    RANGE = pd.date_range(start.values[i],end.values[i],freq='10min')\n",
    "#    DELTAT_UMBRA = RANGE - start.values[i]#transform in min\n",
    "#    tmp = pd.DataFrame(index=RANGE, data=DELTAT_UMBRA)\n",
    "#    BIGECLIPSE_UMBRA = pd.concat([BIGECLIPSE_UMBRA, tmp])\n",
    "    "
   ]
  },
  {
   "cell_type": "code",
   "execution_count": null,
   "metadata": {
    "ExecuteTime": {
     "start_time": "2017-11-27T14:40:36.050Z"
    },
    "collapsed": true
   },
   "outputs": [],
   "source": [
    "#df_umbra_dt = pd.DataFrame()\n",
    "\n",
    "#for ts,te in zip(start, end):\n",
    "#    RANGE = pd.date_range(ts, te, freq='4s')\n",
    "#    DELTAT_UMBRA = RANGE - ts\n",
    "#    dftmp = pd.DataFrame(index=RANGE, data=DELTAT_UMBRA)\n",
    "#    df_umbra_dt = pd.concat([df_umbra_dt, dftmp])"
   ]
  },
  {
   "cell_type": "code",
   "execution_count": null,
   "metadata": {
    "ExecuteTime": {
     "start_time": "2017-11-27T14:40:36.056Z"
    },
    "collapsed": true
   },
   "outputs": [],
   "source": [
    "#BIGECLIPSE_UMBRA = df_umbra_dt"
   ]
  },
  {
   "cell_type": "code",
   "execution_count": null,
   "metadata": {
    "ExecuteTime": {
     "start_time": "2017-11-27T14:40:36.065Z"
    },
    "collapsed": true
   },
   "outputs": [],
   "source": [
    "#print(df_umbra_dt.head())"
   ]
  },
  {
   "cell_type": "code",
   "execution_count": null,
   "metadata": {
    "ExecuteTime": {
     "start_time": "2017-11-27T14:40:36.070Z"
    },
    "collapsed": true,
    "scrolled": true
   },
   "outputs": [],
   "source": [
    "#print(BIGECLIPSE_UMBRA.shape)"
   ]
  },
  {
   "cell_type": "code",
   "execution_count": null,
   "metadata": {
    "ExecuteTime": {
     "start_time": "2017-11-27T14:40:36.075Z"
    },
    "collapsed": true
   },
   "outputs": [],
   "source": [
    "#print(BIGECLIPSE_UMBRA.head())"
   ]
  },
  {
   "cell_type": "markdown",
   "metadata": {},
   "source": [
    "### PENUMBRA"
   ]
  },
  {
   "cell_type": "code",
   "execution_count": null,
   "metadata": {
    "ExecuteTime": {
     "start_time": "2017-11-27T14:40:36.224Z"
    },
    "collapsed": true
   },
   "outputs": [],
   "source": [
    "#eclipse data --- DATA LOADING\n",
    "#DIR = '/home/jupyter/workspaces/missions/xmmintegral/data/INTEGRAL_context_file/'\n",
    "\n",
    "#df_eclipse_penum = pd.read_csv(DIR + \"penumF.csv\")\n",
    "#print(df_eclipse_penum.shape)\n",
    "#print(df_eclipse_penum.head())"
   ]
  },
  {
   "cell_type": "code",
   "execution_count": null,
   "metadata": {
    "ExecuteTime": {
     "start_time": "2017-11-27T14:40:36.233Z"
    },
    "collapsed": true
   },
   "outputs": [],
   "source": [
    "# Start times\n",
    "#df_eclip_penumbra = pd.read_csv(DIR + \"penumF.csv\", index_col=[0])\n",
    "#start = pd.to_datetime(df_eclip_penumbra.index)\n",
    "#start"
   ]
  },
  {
   "cell_type": "code",
   "execution_count": null,
   "metadata": {
    "ExecuteTime": {
     "start_time": "2017-11-27T14:40:36.240Z"
    },
    "collapsed": true
   },
   "outputs": [],
   "source": [
    "# End times\n",
    "#df_eclip_penumbra = pd.read_csv(DIR + \"penumF.csv\", index_col=[1])\n",
    "#end = pd.to_datetime(df_eclip_penumbra.index)\n",
    "#end"
   ]
  },
  {
   "cell_type": "code",
   "execution_count": null,
   "metadata": {
    "ExecuteTime": {
     "start_time": "2017-11-27T14:40:36.247Z"
    },
    "collapsed": true
   },
   "outputs": [],
   "source": [
    "#BIGECLIPSE_PENUMBRA = []\n",
    "#for i in range(0,start.size):\n",
    " #   BIGECLIPSE_PENUMBRA.append(pd.date_range(start.values[i],end.values[i],freq='10min'))\n",
    "#BIGECLIPSE_penUMBRA"
   ]
  },
  {
   "cell_type": "code",
   "execution_count": null,
   "metadata": {
    "ExecuteTime": {
     "start_time": "2017-11-27T14:40:36.255Z"
    },
    "collapsed": true
   },
   "outputs": [],
   "source": [
    "#print(end.values)"
   ]
  },
  {
   "cell_type": "code",
   "execution_count": null,
   "metadata": {
    "ExecuteTime": {
     "start_time": "2017-11-27T14:40:36.264Z"
    },
    "collapsed": true
   },
   "outputs": [],
   "source": [
    "#BIGECLIPSE_PENUMBRA = pd.DataFrame()\n",
    "\n",
    "#for i in range(0,start.size):\n",
    "#    RANGE = pd.date_range(start.values[i],end.values[i],freq='10min')\n",
    "#    DELTAT_PENUMBRA = RANGE - start.values[i]\n",
    "#    tmp = pd.DataFrame(index=RANGE, data=DELTAT_PENUMBRA)\n",
    "#    BIGECLIPSE_PENUMBRA = pd.concat([BIGECLIPSE_PENUMBRA, tmp])\n",
    "   "
   ]
  },
  {
   "cell_type": "code",
   "execution_count": null,
   "metadata": {
    "ExecuteTime": {
     "start_time": "2017-11-27T14:40:36.274Z"
    },
    "collapsed": true
   },
   "outputs": [],
   "source": [
    "#df_penumbra_dt = pd.DataFrame()\n",
    "\n",
    "#for ts,te in zip(start, end):\n",
    "#    RANGE = pd.date_range(ts, te, freq='4s')\n",
    "#    DELTAT_PENUMBRA = RANGE - ts\n",
    "#    dftmp = pd.DataFrame(index=RANGE, data=DELTAT_PENUMBRA)\n",
    "#    df_penumbra_dt = pd.concat([df_penumbra_dt, dftmp])"
   ]
  },
  {
   "cell_type": "code",
   "execution_count": null,
   "metadata": {
    "ExecuteTime": {
     "start_time": "2017-11-27T14:40:36.279Z"
    },
    "collapsed": true
   },
   "outputs": [],
   "source": [
    "#df_penumbra_dt.head()"
   ]
  },
  {
   "cell_type": "code",
   "execution_count": null,
   "metadata": {
    "ExecuteTime": {
     "start_time": "2017-11-27T14:40:36.286Z"
    },
    "collapsed": true
   },
   "outputs": [],
   "source": [
    "#BIGECLIPSE_PENUMBRA = df_penumbra_dt"
   ]
  },
  {
   "cell_type": "code",
   "execution_count": null,
   "metadata": {
    "ExecuteTime": {
     "start_time": "2017-11-27T14:40:36.292Z"
    },
    "collapsed": true
   },
   "outputs": [],
   "source": [
    "#print(BIGECLIPSE_PENUMBRA.shape)"
   ]
  },
  {
   "cell_type": "code",
   "execution_count": null,
   "metadata": {
    "ExecuteTime": {
     "start_time": "2017-11-27T14:40:36.298Z"
    },
    "collapsed": true
   },
   "outputs": [],
   "source": [
    "#print(BIGECLIPSE_PENUMBRA.head())"
   ]
  },
  {
   "cell_type": "markdown",
   "metadata": {},
   "source": [
    "##   Read Target Data from .csv file"
   ]
  },
  {
   "cell_type": "markdown",
   "metadata": {},
   "source": [
    "#  Transform index format "
   ]
  },
  {
   "cell_type": "code",
   "execution_count": null,
   "metadata": {
    "ExecuteTime": {
     "start_time": "2017-11-27T14:40:36.649Z"
    },
    "collapsed": true
   },
   "outputs": [],
   "source": [
    "#---------- Transform ms unix time into readable still machine-intepretable format\n",
    "# index is the first column \n",
    "df_AU5201.index = pd.to_datetime(df_AU5201.index)\n",
    "df_AU5202.index = pd.to_datetime(df_AU5202.index)\n",
    "df_AU5203.index = pd.to_datetime(df_AU5203.index)\n",
    "df_AU5204.index = pd.to_datetime(df_AU5204.index)\n",
    "#df_sunspots_cnt.index = pd.to_datetime(df_sunspots_cnt.index)\n",
    "df_orbit.index = pd.to_datetime(df_orbit.index)\n",
    "df_A5201.index = pd.to_datetime(df_A5201.index)\n",
    "df_A5202.index = pd.to_datetime(df_A5202.index)\n",
    "df_A5203.index = pd.to_datetime(df_A5203.index)\n",
    "df_A5204.index = pd.to_datetime(df_A5204.index)\n",
    "df_K5449_hasData.index = pd.to_datetime(df_K5449_hasData.index)\n",
    "df_L5449_hasData.index = pd.to_datetime(df_L5449_hasData.index)\n",
    "df_K5119_hasData.index = pd.to_datetime(df_K5119_hasData.index)\n",
    "df_L5119_hasData.index = pd.to_datetime(df_L5119_hasData.index)\n",
    "#df_U9919_hasData.index = pd.to_datetime(df_U9919_hasData.index)\n",
    "#df_U9920_hasData.index = pd.to_datetime(df_U9920_hasData.index)\n",
    "df_G6061.index = pd.to_datetime(df_G6061.index)\n",
    "df_G6062.index = pd.to_datetime(df_G6062.index)\n",
    "df_G6063.index = pd.to_datetime(df_G6063.index)\n",
    "df_G2013.index = pd.to_datetime(df_G2013.index)\n",
    "df_G5002.index = pd.to_datetime(df_G5002.index)\n",
    "df_G5004.index = pd.to_datetime(df_G5004.index)\n",
    "df_G5007.index = pd.to_datetime(df_G5007.index)\n",
    "df_G5012.index = pd.to_datetime(df_G5012.index)\n",
    "df_G5017.index = pd.to_datetime(df_G5017.index)\n",
    "df_G5022.index = pd.to_datetime(df_G5022.index)\n",
    "df_G5027.index = pd.to_datetime(df_G5027.index)\n",
    "df_G5032.index = pd.to_datetime(df_G5032.index)\n",
    "df_G5037.index = pd.to_datetime(df_G5037.index)\n",
    "df_E3500.index = pd.to_datetime(df_E3500.index)\n",
    "df_E3544.index = pd.to_datetime(df_E3544.index)\n",
    "df_E3340.index = pd.to_datetime(df_E3340.index)\n",
    "df_E3320.index = pd.to_datetime(df_E3320.index)\n",
    "df_E3360.index = pd.to_datetime(df_E3360.index)"
   ]
  },
  {
   "cell_type": "markdown",
   "metadata": {},
   "source": [
    "## Reindexing- Merge Data"
   ]
  },
  {
   "cell_type": "code",
   "execution_count": null,
   "metadata": {
    "ExecuteTime": {
     "start_time": "2017-11-27T14:40:36.830Z"
    },
    "collapsed": true
   },
   "outputs": [],
   "source": [
    "#--------- Reindexing \n",
    "df_all = df_AU5201.dropna()\n",
    "\n",
    "#------- Merge the data\n",
    "#df_all = df_all.join(df_sunspots_cnt.dropna().reindex(df_AU5201.index, method='nearest', fill_value=20.0))\n",
    "df_all = df_all.join(df_orbit.dropna().reindex(df_AU5201.index, method='nearest', fill_value=10000.0))\n",
    "\n",
    "print(df_all.head())"
   ]
  },
  {
   "cell_type": "code",
   "execution_count": null,
   "metadata": {
    "ExecuteTime": {
     "start_time": "2017-11-27T14:40:36.839Z"
    },
    "collapsed": true
   },
   "outputs": [],
   "source": [
    "# Reindexing PENUMBRA\n",
    "#penumbra_final = BIGECLIPSE_PENUMBRA.reindex(df_AU5201.index, method='backfill', fill_value=0)"
   ]
  },
  {
   "cell_type": "code",
   "execution_count": null,
   "metadata": {
    "ExecuteTime": {
     "start_time": "2017-11-27T14:40:36.849Z"
    },
    "collapsed": true
   },
   "outputs": [],
   "source": [
    "#penumbra_final.head()"
   ]
  },
  {
   "cell_type": "code",
   "execution_count": null,
   "metadata": {
    "ExecuteTime": {
     "start_time": "2017-11-27T14:40:36.856Z"
    },
    "collapsed": true
   },
   "outputs": [],
   "source": [
    "# Reindexing UMBRA\n",
    "#umbra_final = BIGECLIPSE_UMBRA.reindex(df_AU5201.index, method='backfill', fill_value=0)"
   ]
  },
  {
   "cell_type": "code",
   "execution_count": null,
   "metadata": {
    "ExecuteTime": {
     "start_time": "2017-11-27T14:40:36.864Z"
    },
    "collapsed": true
   },
   "outputs": [],
   "source": [
    "#penumbra_final.columns = [\"penumbra\"]"
   ]
  },
  {
   "cell_type": "code",
   "execution_count": null,
   "metadata": {
    "ExecuteTime": {
     "start_time": "2017-11-27T14:40:36.871Z"
    },
    "collapsed": true
   },
   "outputs": [],
   "source": [
    "#umbra_final.columns = [\"umbra\"]"
   ]
  },
  {
   "cell_type": "code",
   "execution_count": null,
   "metadata": {
    "ExecuteTime": {
     "start_time": "2017-11-27T14:40:36.878Z"
    },
    "collapsed": true
   },
   "outputs": [],
   "source": [
    "#df_context_final = df_all.join(penumbra_final)"
   ]
  },
  {
   "cell_type": "code",
   "execution_count": null,
   "metadata": {
    "ExecuteTime": {
     "start_time": "2017-11-27T14:40:36.885Z"
    },
    "collapsed": true
   },
   "outputs": [],
   "source": [
    "#df_context_final = df_all.join(umbra_final)"
   ]
  },
  {
   "cell_type": "code",
   "execution_count": null,
   "metadata": {
    "ExecuteTime": {
     "start_time": "2017-11-27T14:40:36.895Z"
    },
    "collapsed": true
   },
   "outputs": [],
   "source": [
    "#print(df_context_final.head())"
   ]
  },
  {
   "cell_type": "markdown",
   "metadata": {},
   "source": [
    "## Position elements preprocessing"
   ]
  },
  {
   "cell_type": "code",
   "execution_count": null,
   "metadata": {
    "ExecuteTime": {
     "start_time": "2017-11-27T14:40:37.102Z"
    },
    "collapsed": true
   },
   "outputs": [],
   "source": [
    "print(np.shape(rx_tot))\n",
    "\n",
    "#DT = pd.date_range(df_orbit.index[0], df_orbit.index[-1], freq=\"1s\")\n",
    "#print(len(DT))\n",
    "#print(PERIOD[0]/30)"
   ]
  },
  {
   "cell_type": "code",
   "execution_count": null,
   "metadata": {
    "ExecuteTime": {
     "start_time": "2017-11-27T14:40:37.109Z"
    },
    "collapsed": true
   },
   "outputs": [],
   "source": [
    "#sum = 0\n",
    "#for period in PERIOD:\n",
    "#    sum += period\n",
    "    \n",
    "#print(sum)    \n",
    "    \n",
    "#print(df_orbit.index[0])\n",
    "#print(df_orbit.index[-1])\n",
    "# make more data for 2017\n",
    "#print(ECCENT.size)\n",
    "#DT = pd.date_range(df_orbit.index[0], df_orbit.index[-1], freq=\"1s\")\n",
    "#print(len(DT))"
   ]
  },
  {
   "cell_type": "code",
   "execution_count": null,
   "metadata": {
    "ExecuteTime": {
     "start_time": "2017-11-27T14:40:37.118Z"
    },
    "collapsed": true
   },
   "outputs": [],
   "source": [
    "#print(df_orbit.shape)"
   ]
  },
  {
   "cell_type": "code",
   "execution_count": null,
   "metadata": {
    "ExecuteTime": {
     "start_time": "2017-11-27T14:40:37.127Z"
    },
    "collapsed": true
   },
   "outputs": [],
   "source": [
    "#print(len(rx_tot))\n",
    "#print(len(rx_tot[0]))\n",
    "#print(len(rx_tot)*len(rx_tot[0]))"
   ]
  },
  {
   "cell_type": "code",
   "execution_count": null,
   "metadata": {
    "ExecuteTime": {
     "start_time": "2017-11-27T14:40:37.137Z"
    },
    "collapsed": true
   },
   "outputs": [],
   "source": [
    "#for i in range(1,276):\n",
    "#    DT = pd.date_range(df_orbit.index[0], df_orbit.index[i], freq=\"30s\")\n",
    "#    print(len(DT))\n",
    "    #print(DT)\n",
    "#    sum = 0\n",
    "#    for period in PERIOD[:i]:\n",
    "#        sum += period    \n",
    "#    print(sum) \n",
    "    \n",
    " #   print(\"\\t diff = \", sum-len(DT), \", at period \", i)"
   ]
  },
  {
   "cell_type": "code",
   "execution_count": null,
   "metadata": {
    "ExecuteTime": {
     "start_time": "2017-11-27T14:40:37.145Z"
    },
    "collapsed": true
   },
   "outputs": [],
   "source": [
    "for i in range(1,383): #383 Change here if you change the amount of data always...\n",
    "    DT = pd.date_range(df_orbit.index[0], df_orbit.index[i], freq=\"30S\")\n",
    "    sum = 0\n",
    "    for period in PERIOD[:i]:\n",
    "        sum += period    "
   ]
  },
  {
   "cell_type": "code",
   "execution_count": null,
   "metadata": {
    "ExecuteTime": {
     "start_time": "2017-11-27T14:40:37.153Z"
    },
    "collapsed": true
   },
   "outputs": [],
   "source": [
    "#plt.plot(ry_tot[0])"
   ]
  },
  {
   "cell_type": "code",
   "execution_count": null,
   "metadata": {
    "ExecuteTime": {
     "start_time": "2017-11-27T14:40:37.161Z"
    },
    "collapsed": true
   },
   "outputs": [],
   "source": [
    "#DT = pd.date_range(df_orbit_param.index[0], df_orbit_param.index, freq=\"1S\")\n",
    "#DT = pd.date_range(df_orbit.index[0], \"2017-09-17 23:59:57\",freq=\"2min\")\n",
    "\n",
    "def megaflatting(R):\n",
    "    L = []\n",
    "    for r in R:\n",
    "        for rr in r:\n",
    "            L.append(np.ravel(rr))\n",
    "    return L\n",
    "\n",
    "df_pos = pd.DataFrame(megaflatting(rx_tot)[:len(DT)], index=DT)\n",
    "df_pos.columns = [\"rx\"]\n",
    "\n",
    "df_pos[\"ry\"] = megaflatting(ry_tot)[:len(DT)]\n",
    "df_pos[\"rz\"] = megaflatting(rz_tot)[:len(DT)]\n",
    "\n",
    "df_pos[\"vx\"] = megaflatting(vx_tot)[:len(DT)]\n",
    "df_pos[\"vy\"] = megaflatting(vy_tot)[:len(DT)]\n",
    "df_pos[\"vz\"] = megaflatting(vz_tot)[:len(DT)]\n",
    "\n",
    "print(df_pos.shape)"
   ]
  },
  {
   "cell_type": "code",
   "execution_count": null,
   "metadata": {
    "ExecuteTime": {
     "start_time": "2017-11-27T14:40:37.169Z"
    },
    "collapsed": true
   },
   "outputs": [],
   "source": [
    "#print(df_pos['ry'].tail())"
   ]
  },
  {
   "cell_type": "code",
   "execution_count": null,
   "metadata": {
    "ExecuteTime": {
     "start_time": "2017-11-27T14:40:37.177Z"
    },
    "collapsed": true
   },
   "outputs": [],
   "source": [
    "df_temp = df_all[df_all.index < df_pos.index[-1]]"
   ]
  },
  {
   "cell_type": "code",
   "execution_count": null,
   "metadata": {
    "ExecuteTime": {
     "start_time": "2017-11-27T14:40:37.185Z"
    },
    "collapsed": true
   },
   "outputs": [],
   "source": [
    "#reindex pos and vel\n",
    "df_pos_final = df_pos.reindex(df_temp.index,method=\"backfill\")"
   ]
  },
  {
   "cell_type": "code",
   "execution_count": null,
   "metadata": {
    "ExecuteTime": {
     "start_time": "2017-11-27T14:40:37.193Z"
    },
    "collapsed": true
   },
   "outputs": [],
   "source": [
    "df_pos_final.shape[0] - df_temp.shape[0]"
   ]
  },
  {
   "cell_type": "code",
   "execution_count": null,
   "metadata": {
    "ExecuteTime": {
     "start_time": "2017-11-27T14:40:37.201Z"
    },
    "collapsed": true
   },
   "outputs": [],
   "source": [
    "#df_temp.head"
   ]
  },
  {
   "cell_type": "code",
   "execution_count": null,
   "metadata": {
    "ExecuteTime": {
     "start_time": "2017-11-27T14:40:37.209Z"
    },
    "collapsed": true
   },
   "outputs": [],
   "source": [
    "df_pos_final.index = pd.to_datetime(df_pos_final.index)"
   ]
  },
  {
   "cell_type": "code",
   "execution_count": null,
   "metadata": {
    "ExecuteTime": {
     "start_time": "2017-11-27T14:40:37.217Z"
    },
    "collapsed": true
   },
   "outputs": [],
   "source": [
    "df_pos_final['rx'].plot(figsize=(18,12), color='deeppink', alpha=0.5)"
   ]
  },
  {
   "cell_type": "code",
   "execution_count": null,
   "metadata": {
    "ExecuteTime": {
     "start_time": "2017-11-27T14:40:37.225Z"
    },
    "collapsed": true
   },
   "outputs": [],
   "source": [
    "df_pos['rz'] = pd.Series.to_frame(df_pos['rz'])"
   ]
  },
  {
   "cell_type": "code",
   "execution_count": null,
   "metadata": {
    "ExecuteTime": {
     "start_time": "2017-11-27T14:40:37.233Z"
    },
    "collapsed": true
   },
   "outputs": [],
   "source": [
    "type(df_pos['ry'])"
   ]
  },
  {
   "cell_type": "markdown",
   "metadata": {},
   "source": [
    "## Altitude"
   ]
  },
  {
   "cell_type": "code",
   "execution_count": null,
   "metadata": {
    "ExecuteTime": {
     "start_time": "2017-11-27T14:40:37.570Z"
    },
    "collapsed": true
   },
   "outputs": [],
   "source": [
    "df_pos['rx2'] = df_pos[['rx']].pow(2.0)"
   ]
  },
  {
   "cell_type": "code",
   "execution_count": null,
   "metadata": {
    "ExecuteTime": {
     "start_time": "2017-11-27T14:40:37.578Z"
    },
    "collapsed": true
   },
   "outputs": [],
   "source": [
    "df_pos['ry2'] = df_pos[['ry']].pow(2.0)"
   ]
  },
  {
   "cell_type": "code",
   "execution_count": null,
   "metadata": {
    "ExecuteTime": {
     "start_time": "2017-11-27T14:40:37.586Z"
    },
    "collapsed": true
   },
   "outputs": [],
   "source": [
    "df_pos['rz2'] = df_pos[['rz']].pow(2.0)"
   ]
  },
  {
   "cell_type": "code",
   "execution_count": null,
   "metadata": {
    "ExecuteTime": {
     "start_time": "2017-11-27T14:40:37.595Z"
    },
    "collapsed": true
   },
   "outputs": [],
   "source": [
    "df_pos.head()"
   ]
  },
  {
   "cell_type": "code",
   "execution_count": null,
   "metadata": {
    "ExecuteTime": {
     "start_time": "2017-11-27T14:40:37.605Z"
    },
    "collapsed": true
   },
   "outputs": [],
   "source": [
    "df_pos['sum'] = df_pos[['rx2', 'ry2','rz2']].sum(axis=1)"
   ]
  },
  {
   "cell_type": "code",
   "execution_count": null,
   "metadata": {
    "ExecuteTime": {
     "start_time": "2017-11-27T14:40:37.614Z"
    },
    "collapsed": true
   },
   "outputs": [],
   "source": [
    "df_pos['altitude'] = df_pos[['sum']].sum(axis=1).apply(np.sqrt)"
   ]
  },
  {
   "cell_type": "code",
   "execution_count": null,
   "metadata": {
    "ExecuteTime": {
     "start_time": "2017-11-27T14:40:37.623Z"
    },
    "collapsed": true
   },
   "outputs": [],
   "source": [
    "df_pos.head()"
   ]
  },
  {
   "cell_type": "code",
   "execution_count": null,
   "metadata": {
    "ExecuteTime": {
     "start_time": "2017-11-27T14:40:37.632Z"
    },
    "collapsed": true
   },
   "outputs": [],
   "source": [
    "df_pos = df_pos[['rx', 'ry', 'rz', 'vx', 'vy', 'vz', 'altitude']]"
   ]
  },
  {
   "cell_type": "code",
   "execution_count": null,
   "metadata": {
    "ExecuteTime": {
     "start_time": "2017-11-27T14:40:37.642Z"
    },
    "collapsed": true
   },
   "outputs": [],
   "source": [
    "df_pos['ry'] = df_pos['ry'].astype('float64')\n",
    "df_pos['rz'] = df_pos['rz'].astype('float64')\n",
    "df_pos['rz'].head()\n",
    "\n",
    "df_pos['vx'] = df_pos['vx'].astype('float64')\n",
    "df_pos['vy'] = df_pos['vy'].astype('float64')\n",
    "df_pos['vz'] = df_pos['vz'].astype('float64')\n",
    "\n",
    "df_pos['altitude'] = df_pos['altitude'].astype('float64')"
   ]
  },
  {
   "cell_type": "code",
   "execution_count": null,
   "metadata": {
    "ExecuteTime": {
     "start_time": "2017-11-27T14:40:37.652Z"
    },
    "collapsed": true
   },
   "outputs": [],
   "source": [
    "print(df_pos.head())"
   ]
  },
  {
   "cell_type": "markdown",
   "metadata": {},
   "source": [
    "## More work on context data "
   ]
  },
  {
   "cell_type": "code",
   "execution_count": null,
   "metadata": {
    "ExecuteTime": {
     "start_time": "2017-11-27T14:40:38.065Z"
    },
    "collapsed": true
   },
   "outputs": [],
   "source": [
    "#df_context_final = df_all.join(penumbra_final)\n",
    "#df_context_final = df_context_final.join(umbra_final)\n",
    "df_context_final = df_all.copy()"
   ]
  },
  {
   "cell_type": "code",
   "execution_count": null,
   "metadata": {
    "ExecuteTime": {
     "start_time": "2017-11-27T14:40:38.075Z"
    },
    "collapsed": true
   },
   "outputs": [],
   "source": [
    "print(df_context_final.columns)"
   ]
  },
  {
   "cell_type": "code",
   "execution_count": null,
   "metadata": {
    "ExecuteTime": {
     "start_time": "2017-11-27T14:40:38.086Z"
    },
    "collapsed": true
   },
   "outputs": [],
   "source": [
    "df_context_final = df_context_final.join(df_pos.dropna().reindex(df_AU5201.index, method='nearest', fill_value=10000.0))\n",
    "\n",
    "print(df_context_final.columns)"
   ]
  },
  {
   "cell_type": "code",
   "execution_count": null,
   "metadata": {
    "ExecuteTime": {
     "start_time": "2017-11-27T14:40:38.099Z"
    },
    "collapsed": true
   },
   "outputs": [],
   "source": [
    "#choose only the columns of interest\n",
    "#df_context_final = df_context_final[['cnt', 'HP', 'HA', 'LONG', 'SMA', 'ECCENT', 'INCL', 'NODE',\n",
    "#       'ARGPER', 'DELTA','umbra','penumbra','ry']]\n",
    "#df_context_final['PERIOD'].tail()"
   ]
  },
  {
   "cell_type": "code",
   "execution_count": null,
   "metadata": {
    "ExecuteTime": {
     "start_time": "2017-11-27T14:40:38.115Z"
    },
    "collapsed": true
   },
   "outputs": [],
   "source": [
    "#df_context_final['umbra'].tail()"
   ]
  },
  {
   "cell_type": "markdown",
   "metadata": {
    "ExecuteTime": {
     "end_time": "2017-08-25T12:40:02.887051Z",
     "start_time": "2017-08-25T12:40:02.884619Z"
    }
   },
   "source": [
    "# Print Context Data to Context Integral File"
   ]
  },
  {
   "cell_type": "code",
   "execution_count": null,
   "metadata": {
    "ExecuteTime": {
     "start_time": "2017-11-27T14:40:38.613Z"
    },
    "collapsed": true
   },
   "outputs": [],
   "source": [
    "#df_context_final['umbra'] = df_context_final['umbra'].astype('timedelta64[s]')"
   ]
  },
  {
   "cell_type": "code",
   "execution_count": null,
   "metadata": {
    "ExecuteTime": {
     "start_time": "2017-11-27T14:40:38.627Z"
    },
    "collapsed": true
   },
   "outputs": [],
   "source": [
    "#df_context_final['umbra'].describe()"
   ]
  },
  {
   "cell_type": "code",
   "execution_count": null,
   "metadata": {
    "ExecuteTime": {
     "start_time": "2017-11-27T14:40:38.637Z"
    },
    "collapsed": true
   },
   "outputs": [],
   "source": [
    "#df_context_final['penumbra'] = df_context_final['penumbra'].astype('timedelta64[s]')"
   ]
  },
  {
   "cell_type": "code",
   "execution_count": null,
   "metadata": {
    "ExecuteTime": {
     "start_time": "2017-11-27T14:40:38.647Z"
    },
    "collapsed": true
   },
   "outputs": [],
   "source": [
    "#df_context_final['penumbra'].describe()"
   ]
  },
  {
   "cell_type": "code",
   "execution_count": null,
   "metadata": {
    "ExecuteTime": {
     "start_time": "2017-11-27T14:40:38.659Z"
    },
    "collapsed": true,
    "scrolled": true
   },
   "outputs": [],
   "source": [
    "#df_context_final.tail()"
   ]
  },
  {
   "cell_type": "code",
   "execution_count": null,
   "metadata": {
    "ExecuteTime": {
     "start_time": "2017-11-27T14:40:38.683Z"
    },
    "collapsed": true
   },
   "outputs": [],
   "source": [
    "df_context_final.to_csv('data/INTEGRAL_context_file/FinalContextFile.csv', header=True )"
   ]
  },
  {
   "cell_type": "markdown",
   "metadata": {},
   "source": [
    "# Target Data"
   ]
  },
  {
   "cell_type": "code",
   "execution_count": null,
   "metadata": {
    "ExecuteTime": {
     "start_time": "2017-11-27T14:40:39.171Z"
    },
    "collapsed": true
   },
   "outputs": [],
   "source": [
    "U9921 = int_connector.getData(\"U9921\", \"2015-02-04 15:30:00\", \"2017-11-20 23:59:57\", use_sec=True)"
   ]
  },
  {
   "cell_type": "code",
   "execution_count": null,
   "metadata": {
    "ExecuteTime": {
     "start_time": "2017-11-27T14:40:39.182Z"
    },
    "collapsed": true,
    "scrolled": true
   },
   "outputs": [],
   "source": [
    "#65535 - filtering out IREM crashes \n",
    "U9921.data[U9921.data == 65535] = np.nan\n",
    "#U9921.data[(U9921.data >= 1000)] = np.nan\n",
    "\n",
    "U9921.data = U9921.data.interpolate()\n",
    "U9921.data.plot()"
   ]
  },
  {
   "cell_type": "code",
   "execution_count": null,
   "metadata": {
    "ExecuteTime": {
     "start_time": "2017-11-27T14:40:39.191Z"
    },
    "collapsed": true
   },
   "outputs": [],
   "source": [
    "U9921.data.max()"
   ]
  },
  {
   "cell_type": "code",
   "execution_count": null,
   "metadata": {
    "ExecuteTime": {
     "start_time": "2017-11-27T14:40:39.202Z"
    },
    "collapsed": true
   },
   "outputs": [],
   "source": [
    "#U9921_hasData = U9921.data[(U9921.data > 600)].index"
   ]
  },
  {
   "cell_type": "code",
   "execution_count": null,
   "metadata": {
    "ExecuteTime": {
     "start_time": "2017-11-27T14:40:39.212Z"
    },
    "collapsed": true
   },
   "outputs": [],
   "source": [
    "#U9921.data[U9921_hasData] = 600"
   ]
  },
  {
   "cell_type": "code",
   "execution_count": null,
   "metadata": {
    "ExecuteTime": {
     "start_time": "2017-11-27T14:40:39.222Z"
    },
    "collapsed": true
   },
   "outputs": [],
   "source": [
    "U9921.plot(figsize=(18,12), color='green', linewidth=2 )"
   ]
  },
  {
   "cell_type": "code",
   "execution_count": null,
   "metadata": {
    "ExecuteTime": {
     "start_time": "2017-11-27T14:40:39.232Z"
    },
    "collapsed": true
   },
   "outputs": [],
   "source": [
    "U9921.data.tail()"
   ]
  },
  {
   "cell_type": "code",
   "execution_count": null,
   "metadata": {
    "ExecuteTime": {
     "start_time": "2017-11-27T14:40:39.243Z"
    },
    "collapsed": true
   },
   "outputs": [],
   "source": [
    "U9921.data.to_csv('data/INTEGRAL_context_file/target_U9921.csv', header=True )"
   ]
  },
  {
   "cell_type": "markdown",
   "metadata": {},
   "source": [
    "## Add more data in the Target File from JMEX"
   ]
  },
  {
   "cell_type": "code",
   "execution_count": null,
   "metadata": {
    "ExecuteTime": {
     "start_time": "2017-11-27T14:40:39.834Z"
    },
    "collapsed": true
   },
   "outputs": [],
   "source": [
    "DIR = '/home/jupyter/workspaces/missions/xmmintegral/data/INTEGRAL_context_file/' \n",
    "\n",
    "df_target = pd.read_csv(DIR + \"target_U9921.csv\", index_col=[0])\n",
    "\n",
    "print(df_target.shape)"
   ]
  },
  {
   "cell_type": "code",
   "execution_count": null,
   "metadata": {
    "ExecuteTime": {
     "start_time": "2017-11-27T14:40:39.859Z"
    },
    "collapsed": true
   },
   "outputs": [],
   "source": [
    "df_U9921_JMEX = df_target.copy()\n",
    "\n",
    "type(df_U9921_JMEX)"
   ]
  },
  {
   "cell_type": "code",
   "execution_count": null,
   "metadata": {
    "ExecuteTime": {
     "start_time": "2017-11-27T14:40:39.870Z"
    },
    "collapsed": true
   },
   "outputs": [],
   "source": [
    "#--------- Reindexing \n",
    "df_U9921_JMEX_all = df_target.dropna()\n",
    "type(df_U9921_JMEX_all)\n",
    "\n",
    "df_U9921_JMEX_all = df_U9921_JMEX_all.join(df_K5449_hasData.dropna().reindex(U9921.data.index, method='nearest', fill_value=25000.0))\n",
    "df_U9921_JMEX_all = df_U9921_JMEX_all.join(df_L5449_hasData.dropna().reindex(U9921.data.index, method='nearest', fill_value=25000.0))\n",
    "df_U9921_JMEX_all = df_U9921_JMEX_all.join(df_K5119_hasData.dropna().reindex(U9921.data.index, method='nearest', fill_value=25000.0))\n",
    "df_U9921_JMEX_all = df_U9921_JMEX_all.join(df_L5119_hasData.dropna().reindex(U9921.data.index, method='nearest', fill_value=25000.0))\n",
    "#df_U9921_JMEX_all = df_U9921_JMEX_all.join(df_U9919_hasData.dropna().reindex(U9921.data.index, method='nearest', fill_value=0.0))\n",
    "#df_U9921_JMEX_all = df_U9921_JMEX_all.join(df_U9920_hasData.dropna().reindex(U9921.data.index, method='pad', fill_value=0.0))"
   ]
  },
  {
   "cell_type": "code",
   "execution_count": null,
   "metadata": {
    "ExecuteTime": {
     "start_time": "2017-11-27T14:40:39.881Z"
    },
    "collapsed": true
   },
   "outputs": [],
   "source": [
    "df_U9921_JMEX_all = df_U9921_JMEX_all.join(df_G6061.dropna().reindex(U9921.data.index, method='nearest', fill_value=0.0))\n",
    "df_U9921_JMEX_all = df_U9921_JMEX_all.join(df_G6062.dropna().reindex(U9921.data.index, method='nearest', fill_value=0.0))\n",
    "df_U9921_JMEX_all = df_U9921_JMEX_all.join(df_G6063.dropna().reindex(U9921.data.index, method='nearest', fill_value=0.0))\n",
    "\n",
    "df_U9921_JMEX_all = df_U9921_JMEX_all.join(df_G2013.dropna().reindex(U9921.data.index, method='nearest', fill_value=0.0))\n",
    "df_U9921_JMEX_all = df_U9921_JMEX_all.join(df_G5002.dropna().reindex(U9921.data.index, method='nearest', fill_value=0.0))\n",
    "df_U9921_JMEX_all = df_U9921_JMEX_all.join(df_G5004.dropna().reindex(U9921.data.index, method='nearest', fill_value=0.0))\n",
    "df_U9921_JMEX_all = df_U9921_JMEX_all.join(df_G5007.dropna().reindex(U9921.data.index, method='nearest', fill_value=0.0))\n",
    "df_U9921_JMEX_all = df_U9921_JMEX_all.join(df_G5012.dropna().reindex(U9921.data.index, method='nearest', fill_value=0.0))\n",
    "df_U9921_JMEX_all = df_U9921_JMEX_all.join(df_G5017.dropna().reindex(U9921.data.index, method='nearest', fill_value=0.0))"
   ]
  },
  {
   "cell_type": "code",
   "execution_count": null,
   "metadata": {
    "ExecuteTime": {
     "start_time": "2017-11-27T14:40:39.894Z"
    },
    "collapsed": true
   },
   "outputs": [],
   "source": [
    "df_U9921_JMEX_all = df_U9921_JMEX_all.join(df_G5022.dropna().reindex(U9921.data.index, method='nearest', fill_value=0.0))\n",
    "df_U9921_JMEX_all = df_U9921_JMEX_all.join(df_G5027.dropna().reindex(U9921.data.index, method='nearest', fill_value=0.0))\n",
    "df_U9921_JMEX_all = df_U9921_JMEX_all.join(df_G5032.dropna().reindex(U9921.data.index, method='nearest', fill_value=0.0))\n",
    "df_U9921_JMEX_all = df_U9921_JMEX_all.join(df_G5037.dropna().reindex(U9921.data.index, method='nearest', fill_value=0.0))\n",
    "df_U9921_JMEX_all = df_U9921_JMEX_all.join(df_E3500.dropna().reindex(U9921.data.index, method='nearest', fill_value=0.0))\n",
    "df_U9921_JMEX_all = df_U9921_JMEX_all.join(df_E3544.dropna().reindex(U9921.data.index, method='nearest', fill_value=0.0))\n",
    "df_U9921_JMEX_all = df_U9921_JMEX_all.join(df_E3340.dropna().reindex(U9921.data.index, method='nearest', fill_value=0.0))\n",
    "df_U9921_JMEX_all = df_U9921_JMEX_all.join(df_E3320.dropna().reindex(U9921.data.index, method='nearest', fill_value=0.0))\n",
    "df_U9921_JMEX_all = df_U9921_JMEX_all.join(df_E3360.dropna().reindex(U9921.data.index, method='nearest', fill_value=0.0))"
   ]
  },
  {
   "cell_type": "code",
   "execution_count": null,
   "metadata": {
    "ExecuteTime": {
     "start_time": "2017-11-27T14:40:39.904Z"
    },
    "collapsed": true
   },
   "outputs": [],
   "source": [
    "df_U9921_JMEX_all.to_csv('data/INTEGRAL_context_file/target_U9921.csv', header=True )"
   ]
  },
  {
   "cell_type": "markdown",
   "metadata": {},
   "source": [
    "## Read Target Data from .csv file"
   ]
  },
  {
   "cell_type": "code",
   "execution_count": null,
   "metadata": {
    "ExecuteTime": {
     "start_time": "2017-11-27T14:40:40.514Z"
    },
    "collapsed": true
   },
   "outputs": [],
   "source": [
    "DIR = '/home/jupyter/workspaces/missions/xmmintegral/data/INTEGRAL_context_file/' \n",
    "\n",
    "df_target = pd.read_csv(DIR + \"target_U9921.csv\", index_col=[0])\n",
    "\n",
    "print(df_target.shape)"
   ]
  },
  {
   "cell_type": "code",
   "execution_count": null,
   "metadata": {
    "ExecuteTime": {
     "start_time": "2017-11-27T14:40:40.524Z"
    },
    "collapsed": true
   },
   "outputs": [],
   "source": [
    "df_target.tail()"
   ]
  },
  {
   "cell_type": "code",
   "execution_count": null,
   "metadata": {
    "ExecuteTime": {
     "start_time": "2017-11-27T14:40:40.537Z"
    },
    "collapsed": true
   },
   "outputs": [],
   "source": [
    "df_target['U9921'].plot(figsize=(16,12), color='deeppink', alpha=0.8)"
   ]
  },
  {
   "cell_type": "code",
   "execution_count": null,
   "metadata": {
    "ExecuteTime": {
     "start_time": "2017-11-27T14:40:40.546Z"
    },
    "collapsed": true
   },
   "outputs": [],
   "source": [
    "df_target['U9921'].max()"
   ]
  },
  {
   "cell_type": "code",
   "execution_count": null,
   "metadata": {
    "collapsed": true
   },
   "outputs": [],
   "source": []
  }
 ],
 "metadata": {
  "kernelspec": {
   "display_name": "Python 2",
   "language": "python",
   "name": "python2"
  },
  "language_info": {
   "codemirror_mode": {
    "name": "ipython",
    "version": 2
   },
   "file_extension": ".py",
   "mimetype": "text/x-python",
   "name": "python",
   "nbconvert_exporter": "python",
   "pygments_lexer": "ipython2",
   "version": "2.7.14"
  },
  "toc": {
   "colors": {
    "hover_highlight": "#DAA520",
    "navigate_num": "#000000",
    "navigate_text": "#333333",
    "running_highlight": "#FF0000",
    "selected_highlight": "#FFD700",
    "sidebar_border": "#EEEEEE",
    "wrapper_background": "#FFFFFF"
   },
   "moveMenuLeft": true,
   "nav_menu": {
    "height": "233px",
    "width": "252px"
   },
   "navigate_menu": true,
   "number_sections": true,
   "sideBar": true,
   "threshold": 4,
   "toc_cell": false,
   "toc_position": {
    "height": "968px",
    "left": "0px",
    "right": "20px",
    "top": "106px",
    "width": "212px"
   },
   "toc_section_display": "block",
   "toc_window_display": true,
   "widenNotebook": false
  }
 },
 "nbformat": 4,
 "nbformat_minor": 2
}
